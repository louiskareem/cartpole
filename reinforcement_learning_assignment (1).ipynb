{
  "cells": [
    {
      "cell_type": "markdown",
      "source": [
        "Install the required libraries"
      ],
      "metadata": {
        "id": "HwYjfdd5i9fA"
      }
    },
    {
      "cell_type": "code",
      "execution_count": null,
      "metadata": {
        "id": "CgMdsnESePUN"
      },
      "outputs": [],
      "source": [
        "# !pip install tensorflow==2.3.0\n",
        "# !pip install gym\n",
        "!pip install keras\n",
        "!pip install keras-rl2\n",
        "!pip install 'gym[classic_control]'"
      ]
    },
    {
      "cell_type": "markdown",
      "source": [
        "Import the necessary libraries and set up the CartPole environment"
      ],
      "metadata": {
        "id": "AL9yfvZXqlcf"
      }
    },
    {
      "cell_type": "code",
      "execution_count": 2,
      "metadata": {
        "id": "B7yA0U-6ePUQ"
      },
      "outputs": [],
      "source": [
        "import gym\n",
        "import random\n",
        "import numpy as np\n",
        "from tensorflow.keras.models import Sequential\n",
        "from tensorflow.keras.layers import Dense, Flatten, Activation\n",
        "from tensorflow.keras.optimizers import Adam\n",
        "import os\n",
        "from rl.agents import DQNAgent\n",
        "from rl.policy import BoltzmannQPolicy\n",
        "from rl.memory import SequentialMemory"
      ]
    },
    {
      "cell_type": "code",
      "execution_count": 3,
      "outputs": [
        {
          "output_type": "stream",
          "name": "stderr",
          "text": [
            "/usr/local/lib/python3.8/dist-packages/gym/core.py:317: DeprecationWarning: \u001b[33mWARN: Initializing wrapper in old step API which returns one bool instead of two. It is recommended to set `new_step_api=True` to use new step API. This will be the default behaviour in future.\u001b[0m\n",
            "  deprecation(\n",
            "/usr/local/lib/python3.8/dist-packages/gym/wrappers/step_api_compatibility.py:39: DeprecationWarning: \u001b[33mWARN: Initializing environment in old step API which returns one bool instead of two. It is recommended to set `new_step_api=True` to use new step API. This will be the default behaviour in future.\u001b[0m\n",
            "  deprecation(\n"
          ]
        }
      ],
      "source": [
        "env = gym.make('CartPole-v1')\n",
        "states = env.observation_space.shape[0]\n",
        "actions = env.action_space.n"
      ],
      "metadata": {
        "colab": {
          "base_uri": "https://localhost:8080/"
        },
        "id": "dV8rhpt1ePUQ",
        "outputId": "f8711da9-bec0-4b8c-b849-8142168876c1"
      }
    },
    {
      "cell_type": "code",
      "execution_count": 4,
      "outputs": [
        {
          "output_type": "execute_result",
          "data": {
            "text/plain": [
              "2"
            ]
          },
          "metadata": {},
          "execution_count": 4
        }
      ],
      "source": [
        "actions"
      ],
      "metadata": {
        "colab": {
          "base_uri": "https://localhost:8080/"
        },
        "id": "61H3D83dePUR",
        "outputId": "504dad87-aeb3-43e2-e61d-e26accb8a9b1"
      }
    },
    {
      "cell_type": "code",
      "source": [
        "\n",
        "os.environ['SDL_VIDEODRIVER']='dummy'"
      ],
      "metadata": {
        "id": "N0FEUn7DfpcJ"
      },
      "execution_count": 5,
      "outputs": []
    },
    {
      "cell_type": "code",
      "execution_count": 6,
      "outputs": [
        {
          "output_type": "stream",
          "name": "stderr",
          "text": [
            "/usr/local/lib/python3.8/dist-packages/gym/core.py:49: DeprecationWarning: \u001b[33mWARN: You are calling render method, but you didn't specified the argument render_mode at environment initialization. To maintain backward compatibility, the environment will render in human mode.\n",
            "If you want to render in human mode, initialize the environment in this way: gym.make('EnvName', render_mode='human') and don't call the render method.\n",
            "See here for more information: https://www.gymlibrary.ml/content/api/\u001b[0m\n",
            "  deprecation(\n"
          ]
        },
        {
          "output_type": "stream",
          "name": "stdout",
          "text": [
            "Episode:1 Score:14.0\n",
            "Episode:2 Score:23.0\n",
            "Episode:3 Score:21.0\n",
            "Episode:4 Score:21.0\n",
            "Episode:5 Score:16.0\n",
            "Episode:6 Score:105.0\n",
            "Episode:7 Score:12.0\n",
            "Episode:8 Score:58.0\n",
            "Episode:9 Score:15.0\n",
            "Episode:10 Score:15.0\n",
            "Episode:11 Score:14.0\n",
            "Episode:12 Score:27.0\n",
            "Episode:13 Score:19.0\n",
            "Episode:14 Score:13.0\n",
            "Episode:15 Score:19.0\n",
            "Episode:16 Score:31.0\n",
            "Episode:17 Score:25.0\n",
            "Episode:18 Score:16.0\n",
            "Episode:19 Score:29.0\n",
            "Episode:20 Score:17.0\n"
          ]
        }
      ],
      "source": [
        "episodes = 20\n",
        "for episode in range(1, episodes+1):\n",
        "    state = env.reset()\n",
        "    done = False\n",
        "    score = 0\n",
        "\n",
        "    while not done:\n",
        "        env.render()\n",
        "        action = random.choice([0,1])\n",
        "        n_state, reward, done, info = env.step(action)\n",
        "        score+=reward\n",
        "    print('Episode:{} Score:{}'.format(episode, score))"
      ],
      "metadata": {
        "colab": {
          "base_uri": "https://localhost:8080/"
        },
        "id": "QNe_oMpJePUS",
        "outputId": "cd616263-6513-496d-ddb7-68f9f35313cb"
      }
    },
    {
      "cell_type": "markdown",
      "source": [
        "Define the model\n",
        "\n",
        "Next, define a function that will create the model. \n",
        "This model will take in the current state of the environment as input and output the action to be taken."
      ],
      "metadata": {
        "id": "dqX6Qdhsj7Cc"
      }
    },
    {
      "cell_type": "code",
      "execution_count": 7,
      "outputs": [],
      "source": [
        "def build_model(states, actions):\n",
        "    model = Sequential()\n",
        "    model.add(Flatten(input_shape=(1,states)))\n",
        "    model.add(Dense(32, activation='relu'))\n",
        "    model.add(Dense(32, activation='relu'))\n",
        "    model.add(Dense(actions, activation='linear'))\n",
        "    return model"
      ],
      "metadata": {
        "id": "2Nci6-OkePUT"
      }
    },
    {
      "cell_type": "code",
      "execution_count": 8,
      "outputs": [],
      "source": [
        "model = build_model(states, actions)"
      ],
      "metadata": {
        "id": "NTAeA-qaePUT"
      }
    },
    {
      "cell_type": "code",
      "execution_count": 9,
      "outputs": [
        {
          "output_type": "stream",
          "name": "stdout",
          "text": [
            "Model: \"sequential\"\n",
            "_________________________________________________________________\n",
            " Layer (type)                Output Shape              Param #   \n",
            "=================================================================\n",
            " flatten (Flatten)           (None, 4)                 0         \n",
            "                                                                 \n",
            " dense (Dense)               (None, 32)                160       \n",
            "                                                                 \n",
            " dense_1 (Dense)             (None, 32)                1056      \n",
            "                                                                 \n",
            " dense_2 (Dense)             (None, 2)                 66        \n",
            "                                                                 \n",
            "=================================================================\n",
            "Total params: 1,282\n",
            "Trainable params: 1,282\n",
            "Non-trainable params: 0\n",
            "_________________________________________________________________\n"
          ]
        }
      ],
      "source": [
        "model.summary()"
      ],
      "metadata": {
        "colab": {
          "base_uri": "https://localhost:8080/"
        },
        "id": "5Y5noQVuePUU",
        "outputId": "d43a6738-8666-4764-c781-96600de1b7c0"
      }
    },
    {
      "cell_type": "markdown",
      "source": [
        "Build the agent and train the model"
      ],
      "metadata": {
        "id": "mE7DUILGkLOo"
      }
    },
    {
      "cell_type": "code",
      "source": [
        "def build_agent(model, actions):\n",
        "    policy = BoltzmannQPolicy()\n",
        "    memory = SequentialMemory(limit=50000, window_length=1)\n",
        "    dqn = DQNAgent(model=model, memory=memory, policy=policy, nb_actions=actions, nb_steps_warmup=10, target_model_update=1e-2)\n",
        "    return dqn"
      ],
      "metadata": {
        "id": "ovqqEqSngPPl"
      },
      "execution_count": 10,
      "outputs": []
    },
    {
      "cell_type": "code",
      "source": [
        "dqn = build_agent(model, actions)\n",
        "dqn.compile(Adam(lr=1e-3), metrics=['mae'])\n",
        "dqn.fit(env, nb_steps=50000, visualize=True, verbose=1)"
      ],
      "metadata": {
        "colab": {
          "base_uri": "https://localhost:8080/"
        },
        "id": "1DcjL9jggPSH",
        "outputId": "f83d0354-2b7d-4744-b9fc-7f625afb027c"
      },
      "execution_count": 11,
      "outputs": [
        {
          "output_type": "stream",
          "name": "stderr",
          "text": [
            "/usr/local/lib/python3.8/dist-packages/keras/optimizers/optimizer_v2/adam.py:110: UserWarning: The `lr` argument is deprecated, use `learning_rate` instead.\n",
            "  super(Adam, self).__init__(name, **kwargs)\n"
          ]
        },
        {
          "output_type": "stream",
          "name": "stdout",
          "text": [
            "Training for 50000 steps ...\n",
            "Interval 1 (0 steps performed)\n",
            "    4/10000 [..............................] - ETA: 3:23 - reward: 1.0000 "
          ]
        },
        {
          "output_type": "stream",
          "name": "stderr",
          "text": [
            "/usr/local/lib/python3.8/dist-packages/keras/engine/training_v1.py:2067: UserWarning: `Model.state_updates` will be removed in a future version. This property should not be used in TensorFlow 2.0, as `updates` are applied automatically.\n",
            "  updates=self.state_updates,\n",
            "/usr/local/lib/python3.8/dist-packages/gym/core.py:43: DeprecationWarning: \u001b[33mWARN: The argument mode in render method is deprecated; use render_mode during environment initialization instead.\n",
            "See here for more information: https://www.gymlibrary.ml/content/api/\u001b[0m\n",
            "  deprecation(\n"
          ]
        },
        {
          "output_type": "stream",
          "name": "stdout",
          "text": [
            "   10/10000 [..............................] - ETA: 3:21 - reward: 1.0000"
          ]
        },
        {
          "output_type": "stream",
          "name": "stderr",
          "text": [
            "/usr/local/lib/python3.8/dist-packages/rl/memory.py:37: UserWarning: Not enough entries to sample without replacement. Consider increasing your warm-up phase to avoid oversampling!\n",
            "  warnings.warn('Not enough entries to sample without replacement. Consider increasing your warm-up phase to avoid oversampling!')\n",
            "/usr/local/lib/python3.8/dist-packages/rl/memory.py:38: DeprecationWarning: This function is deprecated. Please call randint(1, 10 + 1) instead\n",
            "  batch_idxs = np.random.random_integers(low, high - 1, size=size)\n"
          ]
        },
        {
          "output_type": "stream",
          "name": "stdout",
          "text": [
            "   21/10000 [..............................] - ETA: 8:59 - reward: 1.0000"
          ]
        },
        {
          "output_type": "stream",
          "name": "stderr",
          "text": [
            "/usr/local/lib/python3.8/dist-packages/rl/memory.py:38: DeprecationWarning: This function is deprecated. Please call randint(1, 11 + 1) instead\n",
            "  batch_idxs = np.random.random_integers(low, high - 1, size=size)\n",
            "/usr/local/lib/python3.8/dist-packages/rl/memory.py:38: DeprecationWarning: This function is deprecated. Please call randint(1, 12 + 1) instead\n",
            "  batch_idxs = np.random.random_integers(low, high - 1, size=size)\n",
            "/usr/local/lib/python3.8/dist-packages/rl/memory.py:38: DeprecationWarning: This function is deprecated. Please call randint(1, 13 + 1) instead\n",
            "  batch_idxs = np.random.random_integers(low, high - 1, size=size)\n",
            "/usr/local/lib/python3.8/dist-packages/rl/memory.py:38: DeprecationWarning: This function is deprecated. Please call randint(1, 14 + 1) instead\n",
            "  batch_idxs = np.random.random_integers(low, high - 1, size=size)\n",
            "/usr/local/lib/python3.8/dist-packages/rl/memory.py:38: DeprecationWarning: This function is deprecated. Please call randint(1, 15 + 1) instead\n",
            "  batch_idxs = np.random.random_integers(low, high - 1, size=size)\n",
            "/usr/local/lib/python3.8/dist-packages/rl/memory.py:38: DeprecationWarning: This function is deprecated. Please call randint(1, 16 + 1) instead\n",
            "  batch_idxs = np.random.random_integers(low, high - 1, size=size)\n",
            "/usr/local/lib/python3.8/dist-packages/rl/memory.py:38: DeprecationWarning: This function is deprecated. Please call randint(1, 17 + 1) instead\n",
            "  batch_idxs = np.random.random_integers(low, high - 1, size=size)\n",
            "/usr/local/lib/python3.8/dist-packages/rl/memory.py:38: DeprecationWarning: This function is deprecated. Please call randint(1, 18 + 1) instead\n",
            "  batch_idxs = np.random.random_integers(low, high - 1, size=size)\n",
            "/usr/local/lib/python3.8/dist-packages/rl/memory.py:38: DeprecationWarning: This function is deprecated. Please call randint(1, 19 + 1) instead\n",
            "  batch_idxs = np.random.random_integers(low, high - 1, size=size)\n",
            "/usr/local/lib/python3.8/dist-packages/rl/memory.py:38: DeprecationWarning: This function is deprecated. Please call randint(1, 20 + 1) instead\n",
            "  batch_idxs = np.random.random_integers(low, high - 1, size=size)\n",
            "/usr/local/lib/python3.8/dist-packages/rl/memory.py:38: DeprecationWarning: This function is deprecated. Please call randint(1, 21 + 1) instead\n",
            "  batch_idxs = np.random.random_integers(low, high - 1, size=size)\n"
          ]
        },
        {
          "output_type": "stream",
          "name": "stdout",
          "text": [
            "   30/10000 [..............................] - ETA: 7:16 - reward: 1.0000"
          ]
        },
        {
          "output_type": "stream",
          "name": "stderr",
          "text": [
            "/usr/local/lib/python3.8/dist-packages/rl/memory.py:38: DeprecationWarning: This function is deprecated. Please call randint(1, 22 + 1) instead\n",
            "  batch_idxs = np.random.random_integers(low, high - 1, size=size)\n",
            "/usr/local/lib/python3.8/dist-packages/rl/memory.py:38: DeprecationWarning: This function is deprecated. Please call randint(1, 23 + 1) instead\n",
            "  batch_idxs = np.random.random_integers(low, high - 1, size=size)\n",
            "/usr/local/lib/python3.8/dist-packages/rl/memory.py:38: DeprecationWarning: This function is deprecated. Please call randint(1, 24 + 1) instead\n",
            "  batch_idxs = np.random.random_integers(low, high - 1, size=size)\n",
            "/usr/local/lib/python3.8/dist-packages/rl/memory.py:38: DeprecationWarning: This function is deprecated. Please call randint(1, 25 + 1) instead\n",
            "  batch_idxs = np.random.random_integers(low, high - 1, size=size)\n",
            "/usr/local/lib/python3.8/dist-packages/rl/memory.py:38: DeprecationWarning: This function is deprecated. Please call randint(1, 26 + 1) instead\n",
            "  batch_idxs = np.random.random_integers(low, high - 1, size=size)\n",
            "/usr/local/lib/python3.8/dist-packages/rl/memory.py:38: DeprecationWarning: This function is deprecated. Please call randint(1, 27 + 1) instead\n",
            "  batch_idxs = np.random.random_integers(low, high - 1, size=size)\n",
            "/usr/local/lib/python3.8/dist-packages/rl/memory.py:38: DeprecationWarning: This function is deprecated. Please call randint(1, 28 + 1) instead\n",
            "  batch_idxs = np.random.random_integers(low, high - 1, size=size)\n",
            "/usr/local/lib/python3.8/dist-packages/rl/memory.py:38: DeprecationWarning: This function is deprecated. Please call randint(1, 29 + 1) instead\n",
            "  batch_idxs = np.random.random_integers(low, high - 1, size=size)\n",
            "/usr/local/lib/python3.8/dist-packages/rl/memory.py:38: DeprecationWarning: This function is deprecated. Please call randint(1, 30 + 1) instead\n",
            "  batch_idxs = np.random.random_integers(low, high - 1, size=size)\n",
            "/usr/local/lib/python3.8/dist-packages/rl/memory.py:38: DeprecationWarning: This function is deprecated. Please call randint(1, 31 + 1) instead\n",
            "  batch_idxs = np.random.random_integers(low, high - 1, size=size)\n"
          ]
        },
        {
          "output_type": "stream",
          "name": "stdout",
          "text": [
            "10000/10000 [==============================] - 203s 20ms/step - reward: 1.0000\n",
            "82 episodes - episode_reward: 120.902 [8.000, 500.000] - loss: 2.475 - mae: 21.068 - mean_q: 42.770\n",
            "\n",
            "Interval 2 (10000 steps performed)\n",
            "10000/10000 [==============================] - 202s 20ms/step - reward: 1.0000\n",
            "30 episodes - episode_reward: 328.533 [257.000, 500.000] - loss: 4.775 - mae: 46.245 - mean_q: 93.583\n",
            "\n",
            "Interval 3 (20000 steps performed)\n",
            "10000/10000 [==============================] - 202s 20ms/step - reward: 1.0000\n",
            "28 episodes - episode_reward: 349.393 [279.000, 500.000] - loss: 4.910 - mae: 52.077 - mean_q: 105.062\n",
            "\n",
            "Interval 4 (30000 steps performed)\n",
            "10000/10000 [==============================] - 202s 20ms/step - reward: 1.0000\n",
            "25 episodes - episode_reward: 416.800 [315.000, 500.000] - loss: 4.627 - mae: 53.337 - mean_q: 107.454\n",
            "\n",
            "Interval 5 (40000 steps performed)\n",
            "10000/10000 [==============================] - 202s 20ms/step - reward: 1.0000\n",
            "done, took 1011.950 seconds\n"
          ]
        },
        {
          "output_type": "execute_result",
          "data": {
            "text/plain": [
              "<keras.callbacks.History at 0x7fc02face790>"
            ]
          },
          "metadata": {},
          "execution_count": 11
        }
      ]
    },
    {
      "cell_type": "code",
      "source": [
        "scores = dqn.test(env, nb_episodes=100, visualize=True)\n",
        "print(np.mean(scores.history['episode_reward']))"
      ],
      "metadata": {
        "colab": {
          "base_uri": "https://localhost:8080/"
        },
        "id": "4szR4xfbgPUo",
        "outputId": "83c88302-1f32-4d70-bcda-ce3f1f26c242"
      },
      "execution_count": 12,
      "outputs": [
        {
          "output_type": "stream",
          "name": "stdout",
          "text": [
            "Testing for 100 episodes ...\n",
            "Episode 1: reward: 337.000, steps: 337\n",
            "Episode 2: reward: 500.000, steps: 500\n",
            "Episode 3: reward: 400.000, steps: 400\n",
            "Episode 4: reward: 430.000, steps: 430\n",
            "Episode 5: reward: 438.000, steps: 438\n",
            "Episode 6: reward: 443.000, steps: 443\n",
            "Episode 7: reward: 452.000, steps: 452\n",
            "Episode 8: reward: 410.000, steps: 410\n",
            "Episode 9: reward: 366.000, steps: 366\n",
            "Episode 10: reward: 452.000, steps: 452\n",
            "Episode 11: reward: 431.000, steps: 431\n",
            "Episode 12: reward: 384.000, steps: 384\n",
            "Episode 13: reward: 389.000, steps: 389\n",
            "Episode 14: reward: 359.000, steps: 359\n",
            "Episode 15: reward: 420.000, steps: 420\n",
            "Episode 16: reward: 364.000, steps: 364\n",
            "Episode 17: reward: 448.000, steps: 448\n",
            "Episode 18: reward: 344.000, steps: 344\n",
            "Episode 19: reward: 431.000, steps: 431\n",
            "Episode 20: reward: 372.000, steps: 372\n",
            "Episode 21: reward: 344.000, steps: 344\n",
            "Episode 22: reward: 467.000, steps: 467\n",
            "Episode 23: reward: 468.000, steps: 468\n",
            "Episode 24: reward: 452.000, steps: 452\n",
            "Episode 25: reward: 439.000, steps: 439\n",
            "Episode 26: reward: 409.000, steps: 409\n",
            "Episode 27: reward: 434.000, steps: 434\n",
            "Episode 28: reward: 377.000, steps: 377\n",
            "Episode 29: reward: 477.000, steps: 477\n",
            "Episode 30: reward: 479.000, steps: 479\n",
            "Episode 31: reward: 393.000, steps: 393\n",
            "Episode 32: reward: 464.000, steps: 464\n",
            "Episode 33: reward: 370.000, steps: 370\n",
            "Episode 34: reward: 429.000, steps: 429\n",
            "Episode 35: reward: 340.000, steps: 340\n",
            "Episode 36: reward: 382.000, steps: 382\n",
            "Episode 37: reward: 394.000, steps: 394\n",
            "Episode 38: reward: 477.000, steps: 477\n",
            "Episode 39: reward: 462.000, steps: 462\n",
            "Episode 40: reward: 436.000, steps: 436\n",
            "Episode 41: reward: 393.000, steps: 393\n",
            "Episode 42: reward: 364.000, steps: 364\n",
            "Episode 43: reward: 484.000, steps: 484\n",
            "Episode 44: reward: 500.000, steps: 500\n",
            "Episode 45: reward: 428.000, steps: 428\n",
            "Episode 46: reward: 399.000, steps: 399\n",
            "Episode 47: reward: 500.000, steps: 500\n",
            "Episode 48: reward: 448.000, steps: 448\n",
            "Episode 49: reward: 476.000, steps: 476\n",
            "Episode 50: reward: 491.000, steps: 491\n",
            "Episode 51: reward: 496.000, steps: 496\n",
            "Episode 52: reward: 417.000, steps: 417\n",
            "Episode 53: reward: 408.000, steps: 408\n",
            "Episode 54: reward: 435.000, steps: 435\n",
            "Episode 55: reward: 485.000, steps: 485\n",
            "Episode 56: reward: 436.000, steps: 436\n",
            "Episode 57: reward: 415.000, steps: 415\n",
            "Episode 58: reward: 500.000, steps: 500\n",
            "Episode 59: reward: 331.000, steps: 331\n",
            "Episode 60: reward: 500.000, steps: 500\n",
            "Episode 61: reward: 358.000, steps: 358\n",
            "Episode 62: reward: 493.000, steps: 493\n",
            "Episode 63: reward: 369.000, steps: 369\n",
            "Episode 64: reward: 357.000, steps: 357\n",
            "Episode 65: reward: 431.000, steps: 431\n",
            "Episode 66: reward: 360.000, steps: 360\n",
            "Episode 67: reward: 340.000, steps: 340\n",
            "Episode 68: reward: 442.000, steps: 442\n",
            "Episode 69: reward: 423.000, steps: 423\n",
            "Episode 70: reward: 467.000, steps: 467\n",
            "Episode 71: reward: 444.000, steps: 444\n",
            "Episode 72: reward: 408.000, steps: 408\n",
            "Episode 73: reward: 328.000, steps: 328\n",
            "Episode 74: reward: 393.000, steps: 393\n",
            "Episode 75: reward: 409.000, steps: 409\n",
            "Episode 76: reward: 427.000, steps: 427\n",
            "Episode 77: reward: 338.000, steps: 338\n",
            "Episode 78: reward: 435.000, steps: 435\n",
            "Episode 79: reward: 500.000, steps: 500\n",
            "Episode 80: reward: 500.000, steps: 500\n",
            "Episode 81: reward: 352.000, steps: 352\n",
            "Episode 82: reward: 421.000, steps: 421\n",
            "Episode 83: reward: 384.000, steps: 384\n",
            "Episode 84: reward: 469.000, steps: 469\n",
            "Episode 85: reward: 333.000, steps: 333\n",
            "Episode 86: reward: 467.000, steps: 467\n",
            "Episode 87: reward: 396.000, steps: 396\n",
            "Episode 88: reward: 339.000, steps: 339\n",
            "Episode 89: reward: 362.000, steps: 362\n",
            "Episode 90: reward: 415.000, steps: 415\n",
            "Episode 91: reward: 437.000, steps: 437\n",
            "Episode 92: reward: 398.000, steps: 398\n",
            "Episode 93: reward: 465.000, steps: 465\n",
            "Episode 94: reward: 500.000, steps: 500\n",
            "Episode 95: reward: 500.000, steps: 500\n",
            "Episode 96: reward: 372.000, steps: 372\n",
            "Episode 97: reward: 500.000, steps: 500\n",
            "Episode 98: reward: 456.000, steps: 456\n",
            "Episode 99: reward: 390.000, steps: 390\n",
            "Episode 100: reward: 408.000, steps: 408\n",
            "421.55\n"
          ]
        }
      ]
    },
    {
      "cell_type": "code",
      "source": [
        "_ = dqn.test(env, nb_episodes=15, visualize=True)"
      ],
      "metadata": {
        "colab": {
          "base_uri": "https://localhost:8080/"
        },
        "id": "S1xVvi29gPXW",
        "outputId": "1701b0db-5def-4f6d-c147-3d8af59b6c0d"
      },
      "execution_count": 13,
      "outputs": [
        {
          "output_type": "stream",
          "name": "stdout",
          "text": [
            "Testing for 15 episodes ...\n",
            "Episode 1: reward: 462.000, steps: 462\n",
            "Episode 2: reward: 394.000, steps: 394\n",
            "Episode 3: reward: 489.000, steps: 489\n",
            "Episode 4: reward: 472.000, steps: 472\n",
            "Episode 5: reward: 500.000, steps: 500\n",
            "Episode 6: reward: 500.000, steps: 500\n",
            "Episode 7: reward: 422.000, steps: 422\n",
            "Episode 8: reward: 500.000, steps: 500\n",
            "Episode 9: reward: 466.000, steps: 466\n",
            "Episode 10: reward: 463.000, steps: 463\n",
            "Episode 11: reward: 385.000, steps: 385\n",
            "Episode 12: reward: 352.000, steps: 352\n",
            "Episode 13: reward: 418.000, steps: 418\n",
            "Episode 14: reward: 387.000, steps: 387\n",
            "Episode 15: reward: 475.000, steps: 475\n"
          ]
        }
      ]
    },
    {
      "cell_type": "code",
      "source": [
        "dqn.save_weights('dqn_weights.h5f', overwrite=True)"
      ],
      "metadata": {
        "id": "k3mjV1FegYbU"
      },
      "execution_count": 14,
      "outputs": []
    },
    {
      "cell_type": "code",
      "source": [
        "del model\n",
        "del dqn\n",
        "del env"
      ],
      "metadata": {
        "id": "TIW8zzbggYeC"
      },
      "execution_count": 15,
      "outputs": []
    },
    {
      "cell_type": "markdown",
      "source": [
        "Test the trained model\n",
        "\n",
        "Now that I have trained the model, I can test it by running it on the CartPole environment and see how well it performs."
      ],
      "metadata": {
        "id": "sGmnYJjBktRB"
      }
    },
    {
      "cell_type": "code",
      "source": [
        "env = gym.make('CartPole-v1')\n",
        "actions = env.action_space.n\n",
        "states = env.observation_space.shape[0]\n",
        "model = build_model(states, actions)\n",
        "dqn = build_agent(model, actions)\n",
        "dqn.compile(Adam(lr=1e-3), metrics=['mae'])"
      ],
      "metadata": {
        "id": "b_SjAc0xgYgp"
      },
      "execution_count": 16,
      "outputs": []
    },
    {
      "cell_type": "code",
      "source": [
        "dqn.load_weights('dqn_weights.h5f')"
      ],
      "metadata": {
        "id": "s8TQlbxPgYlu"
      },
      "execution_count": 17,
      "outputs": []
    },
    {
      "cell_type": "code",
      "source": [
        "_ = dqn.test(env, nb_episodes=10, visualize=True)"
      ],
      "metadata": {
        "colab": {
          "base_uri": "https://localhost:8080/"
        },
        "id": "8KookacjgYoM",
        "outputId": "3bf2998d-ed13-4042-9abc-a3f77c8233ca"
      },
      "execution_count": 18,
      "outputs": [
        {
          "output_type": "stream",
          "name": "stdout",
          "text": [
            "Testing for 10 episodes ...\n",
            "Episode 1: reward: 372.000, steps: 372\n",
            "Episode 2: reward: 385.000, steps: 385\n",
            "Episode 3: reward: 457.000, steps: 457\n",
            "Episode 4: reward: 365.000, steps: 365\n",
            "Episode 5: reward: 400.000, steps: 400\n",
            "Episode 6: reward: 458.000, steps: 458\n",
            "Episode 7: reward: 404.000, steps: 404\n",
            "Episode 8: reward: 406.000, steps: 406\n",
            "Episode 9: reward: 390.000, steps: 390\n",
            "Episode 10: reward: 463.000, steps: 463\n"
          ]
        }
      ]
    },
    {
      "cell_type": "code",
      "source": [],
      "metadata": {
        "id": "V4klr8C5gPZk"
      },
      "execution_count": 18,
      "outputs": []
    }
  ],
  "metadata": {
    "kernelspec": {
      "display_name": "Python 3 (ipykernel)",
      "language": "python",
      "name": "python3"
    },
    "language_info": {
      "codemirror_mode": {
        "name": "ipython",
        "version": 3
      },
      "file_extension": ".py",
      "mimetype": "text/x-python",
      "name": "python",
      "nbconvert_exporter": "python",
      "pygments_lexer": "ipython3",
      "version": "3.7.13"
    },
    "colab": {
      "provenance": []
    }
  },
  "nbformat": 4,
  "nbformat_minor": 0
}